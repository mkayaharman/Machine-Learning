{
 "cells": [
  {
   "cell_type": "markdown",
   "metadata": {
    "cell_style": "split",
    "heading_collapsed": true,
    "id": "laCRtJs51b6z"
   },
   "source": [
    "# Determines"
   ]
  },
  {
   "cell_type": "markdown",
   "metadata": {
    "cell_style": "split",
    "hidden": true,
    "id": "iixh9Bej1b6z"
   },
   "source": [
    "This dataset contains information on default payments, demographic factors, credit data, history of payment, and bill statements of credit card clients in Taiwan from April 2005 to September 2005.\n",
    "\n",
    "\n",
    "DATA DICT:\n",
    "https://www.kaggle.com/datasets/uciml/default-of-credit-card-clients-dataset\n",
    "\n",
    "\n",
    "There are 25 variables:\n",
    "\n",
    "ID: ID of each client\n",
    "\n",
    "LIMIT_BAL: Amount of given credit in NT dollars (includes individual and family/supplementary credit\n",
    "\n",
    "SEX: Gender (1=male, 2=female)\n",
    "\n",
    "EDUCATION: (1=graduate school, 2=university, 3=high school, 4=others, 5=unknown, 6=unknown)\n",
    "\n",
    "MARRIAGE: Marital status (1=married, 2=single, 3=others)\n",
    "\n",
    "AGE: Age in years\n",
    "\n",
    "PAY_0: Repayment status in September, 2005 (-1=pay duly, 1=payment delay for one month, 2=payment delay for two months, … \n",
    "8=payment delay for eight months, 9=payment delay for nine months and above)\n",
    "\n",
    "PAY_2: Repayment status in August, 2005 (scale same as above)\n",
    "\n",
    "PAY_3: Repayment status in July, 2005 (scale same as above)\n",
    "\n",
    "PAY_4: Repayment status in June, 2005 (scale same as above)\n",
    "\n",
    "PAY_5: Repayment status in May, 2005 (scale same as above)\n",
    "\n",
    "PAY_6: Repayment status in April, 2005 (scale same as above)\n",
    "\n",
    "BILL_AMT1: Amount of bill statement in September, 2005 (NT dollar)\n",
    "\n",
    "BILL_AMT2: Amount of bill statement in August, 2005 (NT dollar)\n",
    "\n",
    "BILL_AMT3: Amount of bill statement in July, 2005 (NT dollar)\n",
    "\n",
    "BILL_AMT4: Amount of bill statement in June, 2005 (NT dollar)\n",
    "\n",
    "BILL_AMT5: Amount of bill statement in May, 2005 (NT dollar)\n",
    "\n",
    "BILL_AMT6: Amount of bill statement in April, 2005 (NT dollar)\n",
    "\n",
    "PAY_AMT1: Amount of previous payment in September, 2005 (NT dollar)\n",
    "\n",
    "PAY_AMT2: Amount of previous payment in August, 2005 (NT dollar)\n",
    "\n",
    "PAY_AMT3: Amount of previous payment in July, 2005 (NT dollar)\n",
    "\n",
    "PAY_AMT4: Amount of previous payment in June, 2005 (NT dollar)\n",
    "\n",
    "\n",
    "PAY_AMT5: Amount of previous payment in May, 2005 (NT dollar)\n",
    "\n",
    "PAY_AMT6: Amount of previous payment in April, 2005 (NT dollar)\n",
    "\n",
    "default.payment.next.month: Default payment (1=yes, 0=no)"
   ]
  },
  {
   "cell_type": "markdown",
   "metadata": {
    "heading_collapsed": true,
    "hidden": true,
    "id": "K7UZHtvu1b62"
   },
   "source": [
    "## Import Libraries"
   ]
  },
  {
   "cell_type": "code",
   "execution_count": 1,
   "metadata": {
    "hidden": true,
    "id": "OqnRjwHB1b64"
   },
   "outputs": [],
   "source": [
    "import pandas as pd\n",
    "import numpy as np\n",
    "import matplotlib.pyplot as plt\n",
    "import seaborn as sns\n",
    "import warnings\n",
    "\n",
    "font_title = {'family': 'times new roman', 'color': 'darkred', \n",
    "              'weight': 'bold', 'size': 14}\n",
    "\n",
    "warnings.filterwarnings('ignore')\n",
    "sns.set_style(\"whitegrid\")\n",
    "\n",
    "plt.rcParams['figure.dpi'] = 100"
   ]
  },
  {
   "cell_type": "markdown",
   "metadata": {
    "heading_collapsed": true,
    "hidden": true,
    "id": "C5lJeTBu1b65"
   },
   "source": [
    "## Import Dataset"
   ]
  },
  {
   "cell_type": "code",
   "execution_count": 2,
   "metadata": {
    "colab": {
     "base_uri": "https://localhost:8080/",
     "height": 17
    },
    "hidden": true,
    "id": "tG5BsWraqX_y",
    "outputId": "a6e730fa-6848-4cfc-becb-284fc8cc99e5"
   },
   "outputs": [],
   "source": [
    "df = pd.read_csv(\"credit_card_clean.txt\")"
   ]
  },
  {
   "cell_type": "code",
   "execution_count": 3,
   "metadata": {},
   "outputs": [],
   "source": [
    "df2 = df.copy()"
   ]
  },
  {
   "cell_type": "markdown",
   "metadata": {
    "heading_collapsed": true,
    "hidden": true,
    "id": "TMjCTEG51b67"
   },
   "source": [
    "## Explore Data"
   ]
  },
  {
   "cell_type": "code",
   "execution_count": 4,
   "metadata": {
    "colab": {
     "base_uri": "https://localhost:8080/",
     "height": 17
    },
    "hidden": true,
    "id": "SnlGRPWbrNAj",
    "outputId": "29ed8227-1450-4213-e9d1-a2953167d415"
   },
   "outputs": [
    {
     "name": "stdout",
     "output_type": "stream",
     "text": [
      "<class 'pandas.core.frame.DataFrame'>\n",
      "RangeIndex: 30000 entries, 0 to 29999\n",
      "Data columns (total 25 columns):\n",
      " #   Column     Non-Null Count  Dtype  \n",
      "---  ------     --------------  -----  \n",
      " 0   ID         30000 non-null  int64  \n",
      " 1   LIMIT_BAL  30000 non-null  float64\n",
      " 2   SEX        30000 non-null  object \n",
      " 3   EDUCATION  30000 non-null  object \n",
      " 4   MARRIAGE   30000 non-null  object \n",
      " 5   AGE        30000 non-null  int64  \n",
      " 6   PAY_1      30000 non-null  int64  \n",
      " 7   PAY_2      30000 non-null  int64  \n",
      " 8   PAY_3      30000 non-null  int64  \n",
      " 9   PAY_4      30000 non-null  int64  \n",
      " 10  PAY_5      30000 non-null  int64  \n",
      " 11  PAY_6      30000 non-null  int64  \n",
      " 12  BILL_AMT1  30000 non-null  float64\n",
      " 13  BILL_AMT2  30000 non-null  float64\n",
      " 14  BILL_AMT3  30000 non-null  float64\n",
      " 15  BILL_AMT4  30000 non-null  float64\n",
      " 16  BILL_AMT5  30000 non-null  float64\n",
      " 17  BILL_AMT6  30000 non-null  float64\n",
      " 18  PAY_AMT1   30000 non-null  float64\n",
      " 19  PAY_AMT2   30000 non-null  float64\n",
      " 20  PAY_AMT3   30000 non-null  float64\n",
      " 21  PAY_AMT4   30000 non-null  float64\n",
      " 22  PAY_AMT5   30000 non-null  float64\n",
      " 23  PAY_AMT6   30000 non-null  float64\n",
      " 24  DEFAULT    30000 non-null  int64  \n",
      "dtypes: float64(13), int64(9), object(3)\n",
      "memory usage: 5.7+ MB\n"
     ]
    }
   ],
   "source": [
    "df.info()"
   ]
  },
  {
   "cell_type": "code",
   "execution_count": 5,
   "metadata": {},
   "outputs": [
    {
     "data": {
      "text/html": [
       "<div>\n",
       "<style scoped>\n",
       "    .dataframe tbody tr th:only-of-type {\n",
       "        vertical-align: middle;\n",
       "    }\n",
       "\n",
       "    .dataframe tbody tr th {\n",
       "        vertical-align: top;\n",
       "    }\n",
       "\n",
       "    .dataframe thead th {\n",
       "        text-align: right;\n",
       "    }\n",
       "</style>\n",
       "<table border=\"1\" class=\"dataframe\">\n",
       "  <thead>\n",
       "    <tr style=\"text-align: right;\">\n",
       "      <th></th>\n",
       "      <th>count</th>\n",
       "      <th>mean</th>\n",
       "      <th>std</th>\n",
       "      <th>min</th>\n",
       "      <th>25%</th>\n",
       "      <th>50%</th>\n",
       "      <th>75%</th>\n",
       "      <th>max</th>\n",
       "    </tr>\n",
       "  </thead>\n",
       "  <tbody>\n",
       "    <tr>\n",
       "      <th>ID</th>\n",
       "      <td>30000.0</td>\n",
       "      <td>15000.500000</td>\n",
       "      <td>8660.398374</td>\n",
       "      <td>1.0</td>\n",
       "      <td>7500.75</td>\n",
       "      <td>15000.5</td>\n",
       "      <td>22500.25</td>\n",
       "      <td>30000.0</td>\n",
       "    </tr>\n",
       "    <tr>\n",
       "      <th>LIMIT_BAL</th>\n",
       "      <td>30000.0</td>\n",
       "      <td>167484.322667</td>\n",
       "      <td>129747.661567</td>\n",
       "      <td>10000.0</td>\n",
       "      <td>50000.00</td>\n",
       "      <td>140000.0</td>\n",
       "      <td>240000.00</td>\n",
       "      <td>1000000.0</td>\n",
       "    </tr>\n",
       "    <tr>\n",
       "      <th>AGE</th>\n",
       "      <td>30000.0</td>\n",
       "      <td>35.485500</td>\n",
       "      <td>9.217904</td>\n",
       "      <td>21.0</td>\n",
       "      <td>28.00</td>\n",
       "      <td>34.0</td>\n",
       "      <td>41.00</td>\n",
       "      <td>79.0</td>\n",
       "    </tr>\n",
       "    <tr>\n",
       "      <th>PAY_1</th>\n",
       "      <td>30000.0</td>\n",
       "      <td>-0.016700</td>\n",
       "      <td>1.123802</td>\n",
       "      <td>-2.0</td>\n",
       "      <td>-1.00</td>\n",
       "      <td>0.0</td>\n",
       "      <td>0.00</td>\n",
       "      <td>8.0</td>\n",
       "    </tr>\n",
       "    <tr>\n",
       "      <th>PAY_2</th>\n",
       "      <td>30000.0</td>\n",
       "      <td>-0.133767</td>\n",
       "      <td>1.197186</td>\n",
       "      <td>-2.0</td>\n",
       "      <td>-1.00</td>\n",
       "      <td>0.0</td>\n",
       "      <td>0.00</td>\n",
       "      <td>8.0</td>\n",
       "    </tr>\n",
       "    <tr>\n",
       "      <th>PAY_3</th>\n",
       "      <td>30000.0</td>\n",
       "      <td>-0.166200</td>\n",
       "      <td>1.196868</td>\n",
       "      <td>-2.0</td>\n",
       "      <td>-1.00</td>\n",
       "      <td>0.0</td>\n",
       "      <td>0.00</td>\n",
       "      <td>8.0</td>\n",
       "    </tr>\n",
       "    <tr>\n",
       "      <th>PAY_4</th>\n",
       "      <td>30000.0</td>\n",
       "      <td>-0.220667</td>\n",
       "      <td>1.169139</td>\n",
       "      <td>-2.0</td>\n",
       "      <td>-1.00</td>\n",
       "      <td>0.0</td>\n",
       "      <td>0.00</td>\n",
       "      <td>8.0</td>\n",
       "    </tr>\n",
       "    <tr>\n",
       "      <th>PAY_5</th>\n",
       "      <td>30000.0</td>\n",
       "      <td>-0.266200</td>\n",
       "      <td>1.133187</td>\n",
       "      <td>-2.0</td>\n",
       "      <td>-1.00</td>\n",
       "      <td>0.0</td>\n",
       "      <td>0.00</td>\n",
       "      <td>8.0</td>\n",
       "    </tr>\n",
       "    <tr>\n",
       "      <th>PAY_6</th>\n",
       "      <td>30000.0</td>\n",
       "      <td>-0.291100</td>\n",
       "      <td>1.149988</td>\n",
       "      <td>-2.0</td>\n",
       "      <td>-1.00</td>\n",
       "      <td>0.0</td>\n",
       "      <td>0.00</td>\n",
       "      <td>8.0</td>\n",
       "    </tr>\n",
       "    <tr>\n",
       "      <th>BILL_AMT1</th>\n",
       "      <td>30000.0</td>\n",
       "      <td>51223.330900</td>\n",
       "      <td>73635.860576</td>\n",
       "      <td>-165580.0</td>\n",
       "      <td>3558.75</td>\n",
       "      <td>22381.5</td>\n",
       "      <td>67091.00</td>\n",
       "      <td>964511.0</td>\n",
       "    </tr>\n",
       "    <tr>\n",
       "      <th>BILL_AMT2</th>\n",
       "      <td>30000.0</td>\n",
       "      <td>49179.075167</td>\n",
       "      <td>71173.768783</td>\n",
       "      <td>-69777.0</td>\n",
       "      <td>2984.75</td>\n",
       "      <td>21200.0</td>\n",
       "      <td>64006.25</td>\n",
       "      <td>983931.0</td>\n",
       "    </tr>\n",
       "    <tr>\n",
       "      <th>BILL_AMT3</th>\n",
       "      <td>30000.0</td>\n",
       "      <td>47013.154800</td>\n",
       "      <td>69349.387427</td>\n",
       "      <td>-157264.0</td>\n",
       "      <td>2666.25</td>\n",
       "      <td>20088.5</td>\n",
       "      <td>60164.75</td>\n",
       "      <td>1664089.0</td>\n",
       "    </tr>\n",
       "    <tr>\n",
       "      <th>BILL_AMT4</th>\n",
       "      <td>30000.0</td>\n",
       "      <td>43262.948967</td>\n",
       "      <td>64332.856134</td>\n",
       "      <td>-170000.0</td>\n",
       "      <td>2326.75</td>\n",
       "      <td>19052.0</td>\n",
       "      <td>54506.00</td>\n",
       "      <td>891586.0</td>\n",
       "    </tr>\n",
       "    <tr>\n",
       "      <th>BILL_AMT5</th>\n",
       "      <td>30000.0</td>\n",
       "      <td>40311.400967</td>\n",
       "      <td>60797.155770</td>\n",
       "      <td>-81334.0</td>\n",
       "      <td>1763.00</td>\n",
       "      <td>18104.5</td>\n",
       "      <td>50190.50</td>\n",
       "      <td>927171.0</td>\n",
       "    </tr>\n",
       "    <tr>\n",
       "      <th>BILL_AMT6</th>\n",
       "      <td>30000.0</td>\n",
       "      <td>38871.760400</td>\n",
       "      <td>59554.107537</td>\n",
       "      <td>-339603.0</td>\n",
       "      <td>1256.00</td>\n",
       "      <td>17071.0</td>\n",
       "      <td>49198.25</td>\n",
       "      <td>961664.0</td>\n",
       "    </tr>\n",
       "    <tr>\n",
       "      <th>PAY_AMT1</th>\n",
       "      <td>30000.0</td>\n",
       "      <td>5663.580500</td>\n",
       "      <td>16563.280354</td>\n",
       "      <td>0.0</td>\n",
       "      <td>1000.00</td>\n",
       "      <td>2100.0</td>\n",
       "      <td>5006.00</td>\n",
       "      <td>873552.0</td>\n",
       "    </tr>\n",
       "    <tr>\n",
       "      <th>PAY_AMT2</th>\n",
       "      <td>30000.0</td>\n",
       "      <td>5921.163500</td>\n",
       "      <td>23040.870402</td>\n",
       "      <td>0.0</td>\n",
       "      <td>833.00</td>\n",
       "      <td>2009.0</td>\n",
       "      <td>5000.00</td>\n",
       "      <td>1684259.0</td>\n",
       "    </tr>\n",
       "    <tr>\n",
       "      <th>PAY_AMT3</th>\n",
       "      <td>30000.0</td>\n",
       "      <td>5225.681500</td>\n",
       "      <td>17606.961470</td>\n",
       "      <td>0.0</td>\n",
       "      <td>390.00</td>\n",
       "      <td>1800.0</td>\n",
       "      <td>4505.00</td>\n",
       "      <td>896040.0</td>\n",
       "    </tr>\n",
       "    <tr>\n",
       "      <th>PAY_AMT4</th>\n",
       "      <td>30000.0</td>\n",
       "      <td>4826.076867</td>\n",
       "      <td>15666.159744</td>\n",
       "      <td>0.0</td>\n",
       "      <td>296.00</td>\n",
       "      <td>1500.0</td>\n",
       "      <td>4013.25</td>\n",
       "      <td>621000.0</td>\n",
       "    </tr>\n",
       "    <tr>\n",
       "      <th>PAY_AMT5</th>\n",
       "      <td>30000.0</td>\n",
       "      <td>4799.387633</td>\n",
       "      <td>15278.305679</td>\n",
       "      <td>0.0</td>\n",
       "      <td>252.50</td>\n",
       "      <td>1500.0</td>\n",
       "      <td>4031.50</td>\n",
       "      <td>426529.0</td>\n",
       "    </tr>\n",
       "    <tr>\n",
       "      <th>PAY_AMT6</th>\n",
       "      <td>30000.0</td>\n",
       "      <td>5215.502567</td>\n",
       "      <td>17777.465775</td>\n",
       "      <td>0.0</td>\n",
       "      <td>117.75</td>\n",
       "      <td>1500.0</td>\n",
       "      <td>4000.00</td>\n",
       "      <td>528666.0</td>\n",
       "    </tr>\n",
       "    <tr>\n",
       "      <th>DEFAULT</th>\n",
       "      <td>30000.0</td>\n",
       "      <td>0.221200</td>\n",
       "      <td>0.415062</td>\n",
       "      <td>0.0</td>\n",
       "      <td>0.00</td>\n",
       "      <td>0.0</td>\n",
       "      <td>0.00</td>\n",
       "      <td>1.0</td>\n",
       "    </tr>\n",
       "  </tbody>\n",
       "</table>\n",
       "</div>"
      ],
      "text/plain": [
       "             count           mean            std       min       25%  \\\n",
       "ID         30000.0   15000.500000    8660.398374       1.0   7500.75   \n",
       "LIMIT_BAL  30000.0  167484.322667  129747.661567   10000.0  50000.00   \n",
       "AGE        30000.0      35.485500       9.217904      21.0     28.00   \n",
       "PAY_1      30000.0      -0.016700       1.123802      -2.0     -1.00   \n",
       "PAY_2      30000.0      -0.133767       1.197186      -2.0     -1.00   \n",
       "PAY_3      30000.0      -0.166200       1.196868      -2.0     -1.00   \n",
       "PAY_4      30000.0      -0.220667       1.169139      -2.0     -1.00   \n",
       "PAY_5      30000.0      -0.266200       1.133187      -2.0     -1.00   \n",
       "PAY_6      30000.0      -0.291100       1.149988      -2.0     -1.00   \n",
       "BILL_AMT1  30000.0   51223.330900   73635.860576 -165580.0   3558.75   \n",
       "BILL_AMT2  30000.0   49179.075167   71173.768783  -69777.0   2984.75   \n",
       "BILL_AMT3  30000.0   47013.154800   69349.387427 -157264.0   2666.25   \n",
       "BILL_AMT4  30000.0   43262.948967   64332.856134 -170000.0   2326.75   \n",
       "BILL_AMT5  30000.0   40311.400967   60797.155770  -81334.0   1763.00   \n",
       "BILL_AMT6  30000.0   38871.760400   59554.107537 -339603.0   1256.00   \n",
       "PAY_AMT1   30000.0    5663.580500   16563.280354       0.0   1000.00   \n",
       "PAY_AMT2   30000.0    5921.163500   23040.870402       0.0    833.00   \n",
       "PAY_AMT3   30000.0    5225.681500   17606.961470       0.0    390.00   \n",
       "PAY_AMT4   30000.0    4826.076867   15666.159744       0.0    296.00   \n",
       "PAY_AMT5   30000.0    4799.387633   15278.305679       0.0    252.50   \n",
       "PAY_AMT6   30000.0    5215.502567   17777.465775       0.0    117.75   \n",
       "DEFAULT    30000.0       0.221200       0.415062       0.0      0.00   \n",
       "\n",
       "                50%        75%        max  \n",
       "ID          15000.5   22500.25    30000.0  \n",
       "LIMIT_BAL  140000.0  240000.00  1000000.0  \n",
       "AGE            34.0      41.00       79.0  \n",
       "PAY_1           0.0       0.00        8.0  \n",
       "PAY_2           0.0       0.00        8.0  \n",
       "PAY_3           0.0       0.00        8.0  \n",
       "PAY_4           0.0       0.00        8.0  \n",
       "PAY_5           0.0       0.00        8.0  \n",
       "PAY_6           0.0       0.00        8.0  \n",
       "BILL_AMT1   22381.5   67091.00   964511.0  \n",
       "BILL_AMT2   21200.0   64006.25   983931.0  \n",
       "BILL_AMT3   20088.5   60164.75  1664089.0  \n",
       "BILL_AMT4   19052.0   54506.00   891586.0  \n",
       "BILL_AMT5   18104.5   50190.50   927171.0  \n",
       "BILL_AMT6   17071.0   49198.25   961664.0  \n",
       "PAY_AMT1     2100.0    5006.00   873552.0  \n",
       "PAY_AMT2     2009.0    5000.00  1684259.0  \n",
       "PAY_AMT3     1800.0    4505.00   896040.0  \n",
       "PAY_AMT4     1500.0    4013.25   621000.0  \n",
       "PAY_AMT5     1500.0    4031.50   426529.0  \n",
       "PAY_AMT6     1500.0    4000.00   528666.0  \n",
       "DEFAULT         0.0       0.00        1.0  "
      ]
     },
     "execution_count": 5,
     "metadata": {},
     "output_type": "execute_result"
    }
   ],
   "source": [
    "df.describe().T"
   ]
  },
  {
   "cell_type": "code",
   "execution_count": 6,
   "metadata": {},
   "outputs": [
    {
     "data": {
      "text/plain": [
       "ID           0\n",
       "LIMIT_BAL    0\n",
       "SEX          0\n",
       "EDUCATION    0\n",
       "MARRIAGE     0\n",
       "AGE          0\n",
       "PAY_1        0\n",
       "PAY_2        0\n",
       "PAY_3        0\n",
       "PAY_4        0\n",
       "PAY_5        0\n",
       "PAY_6        0\n",
       "BILL_AMT1    0\n",
       "BILL_AMT2    0\n",
       "BILL_AMT3    0\n",
       "BILL_AMT4    0\n",
       "BILL_AMT5    0\n",
       "BILL_AMT6    0\n",
       "PAY_AMT1     0\n",
       "PAY_AMT2     0\n",
       "PAY_AMT3     0\n",
       "PAY_AMT4     0\n",
       "PAY_AMT5     0\n",
       "PAY_AMT6     0\n",
       "DEFAULT      0\n",
       "dtype: int64"
      ]
     },
     "execution_count": 6,
     "metadata": {},
     "output_type": "execute_result"
    }
   ],
   "source": [
    "df.isnull().sum()"
   ]
  },
  {
   "cell_type": "code",
   "execution_count": 7,
   "metadata": {},
   "outputs": [
    {
     "data": {
      "text/plain": [
       "0"
      ]
     },
     "execution_count": 7,
     "metadata": {},
     "output_type": "execute_result"
    }
   ],
   "source": [
    "sum(df.duplicated())"
   ]
  },
  {
   "cell_type": "code",
   "execution_count": 8,
   "metadata": {},
   "outputs": [
    {
     "data": {
      "text/plain": [
       "ID           30000\n",
       "LIMIT_BAL       81\n",
       "SEX              2\n",
       "EDUCATION        4\n",
       "MARRIAGE         3\n",
       "AGE             56\n",
       "PAY_1           11\n",
       "PAY_2           11\n",
       "PAY_3           11\n",
       "PAY_4           11\n",
       "PAY_5           10\n",
       "PAY_6           10\n",
       "BILL_AMT1    22723\n",
       "BILL_AMT2    22346\n",
       "BILL_AMT3    22026\n",
       "BILL_AMT4    21548\n",
       "BILL_AMT5    21010\n",
       "BILL_AMT6    20604\n",
       "PAY_AMT1      7943\n",
       "PAY_AMT2      7899\n",
       "PAY_AMT3      7518\n",
       "PAY_AMT4      6937\n",
       "PAY_AMT5      6897\n",
       "PAY_AMT6      6939\n",
       "DEFAULT          2\n",
       "dtype: int64"
      ]
     },
     "execution_count": 8,
     "metadata": {},
     "output_type": "execute_result"
    }
   ],
   "source": [
    "df.nunique()"
   ]
  },
  {
   "cell_type": "code",
   "execution_count": 9,
   "metadata": {},
   "outputs": [
    {
     "data": {
      "text/plain": [
       "Index(['SEX', 'EDUCATION', 'MARRIAGE'], dtype='object')"
      ]
     },
     "execution_count": 9,
     "metadata": {},
     "output_type": "execute_result"
    }
   ],
   "source": [
    "df.select_dtypes(include=['object']).columns"
   ]
  },
  {
   "cell_type": "code",
   "execution_count": 10,
   "metadata": {},
   "outputs": [
    {
     "name": "stdout",
     "output_type": "stream",
     "text": [
      "Column SEX has 2 unique values\n",
      "Column EDUCATION has 4 unique values\n",
      "Column MARRIAGE has 3 unique values\n"
     ]
    }
   ],
   "source": [
    "for col in df.select_dtypes(include=['object']).columns:\n",
    "    print(\"Column\", col, \"has\", df[col].nunique(), \"unique values\")"
   ]
  },
  {
   "cell_type": "code",
   "execution_count": 11,
   "metadata": {},
   "outputs": [
    {
     "data": {
      "text/plain": [
       "0    23364\n",
       "1     6636\n",
       "Name: DEFAULT, dtype: int64"
      ]
     },
     "execution_count": 11,
     "metadata": {},
     "output_type": "execute_result"
    }
   ],
   "source": [
    "df.DEFAULT.value_counts()"
   ]
  },
  {
   "cell_type": "markdown",
   "metadata": {
    "heading_collapsed": true,
    "id": "CS5-GZy0sl4s"
   },
   "source": [
    "# DATA Preprocessing\n"
   ]
  },
  {
   "cell_type": "code",
   "execution_count": 12,
   "metadata": {},
   "outputs": [],
   "source": [
    "from sklearn.model_selection import train_test_split"
   ]
  },
  {
   "cell_type": "code",
   "execution_count": 13,
   "metadata": {
    "hidden": true,
    "id": "fr2wgpvk1b7B"
   },
   "outputs": [],
   "source": [
    "X = df.drop(\"DEFAULT\",axis=1)\n",
    "y = df.DEFAULT"
   ]
  },
  {
   "cell_type": "code",
   "execution_count": 14,
   "metadata": {},
   "outputs": [],
   "source": [
    "X_train, X_test, y_train, y_test = train_test_split(X, y, test_size=0.2, random_state=101, stratify = y)"
   ]
  },
  {
   "cell_type": "markdown",
   "metadata": {
    "heading_collapsed": true,
    "id": "zfi_NOw0s2fM"
   },
   "source": [
    "# Modelling"
   ]
  },
  {
   "cell_type": "markdown",
   "metadata": {
    "heading_collapsed": true,
    "hidden": true,
    "id": "N1cviBuh1b7C"
   },
   "source": [
    "## 1. Logistic model"
   ]
  },
  {
   "cell_type": "markdown",
   "metadata": {
    "heading_collapsed": true,
    "hidden": true,
    "id": "0rSJ5hxp1b7C"
   },
   "source": [
    "### Vanilla Logistic Model"
   ]
  },
  {
   "cell_type": "code",
   "execution_count": 15,
   "metadata": {},
   "outputs": [],
   "source": [
    "def eval_metric(model, X_train, y_train, X_test, y_test):\n",
    "    y_train_pred = model.predict(X_train)\n",
    "    y_pred = model.predict(X_test)\n",
    "    \n",
    "    print(\"Test_Set\")\n",
    "    print(confusion_matrix(y_test, y_pred))\n",
    "    print(classification_report(y_test, y_pred))\n",
    "    print()\n",
    "    print(\"Train_Set\")\n",
    "    print(confusion_matrix(y_train, y_train_pred))\n",
    "    print(classification_report(y_train, y_train_pred))"
   ]
  },
  {
   "cell_type": "code",
   "execution_count": 16,
   "metadata": {},
   "outputs": [
    {
     "data": {
      "text/plain": [
       "Index(['SEX', 'EDUCATION', 'MARRIAGE'], dtype='object')"
      ]
     },
     "execution_count": 16,
     "metadata": {},
     "output_type": "execute_result"
    }
   ],
   "source": [
    "cat = X.select_dtypes(\"object\").columns\n",
    "cat "
   ]
  },
  {
   "cell_type": "code",
   "execution_count": 17,
   "metadata": {},
   "outputs": [],
   "source": [
    "from sklearn.compose import make_column_transformer\n",
    "from sklearn.preprocessing import OneHotEncoder, MinMaxScaler, StandardScaler\n",
    "\n",
    "column_trans = make_column_transformer((OneHotEncoder(handle_unknown=\"ignore\", sparse=False), cat), \n",
    "                                       remainder=MinMaxScaler())"
   ]
  },
  {
   "cell_type": "code",
   "execution_count": 18,
   "metadata": {
    "id": "rbKDDck012BS"
   },
   "outputs": [],
   "source": [
    "from sklearn.pipeline import Pipeline\n",
    "from sklearn.linear_model import LogisticRegression\n",
    "\n",
    "operations=[('OneHotEncoder',column_trans),('log',LogisticRegression(class_weight='balanced',random_state=101))]\n",
    "\n",
    "pipe_log_model=Pipeline(steps=operations)"
   ]
  },
  {
   "cell_type": "code",
   "execution_count": 19,
   "metadata": {},
   "outputs": [],
   "source": [
    "from sklearn.metrics import classification_report,confusion_matrix,plot_confusion_matrix, average_precision_score"
   ]
  },
  {
   "cell_type": "code",
   "execution_count": 20,
   "metadata": {},
   "outputs": [
    {
     "name": "stdout",
     "output_type": "stream",
     "text": [
      "Test_Set\n",
      "[[3273 1400]\n",
      " [ 479  848]]\n",
      "              precision    recall  f1-score   support\n",
      "\n",
      "           0       0.87      0.70      0.78      4673\n",
      "           1       0.38      0.64      0.47      1327\n",
      "\n",
      "    accuracy                           0.69      6000\n",
      "   macro avg       0.62      0.67      0.63      6000\n",
      "weighted avg       0.76      0.69      0.71      6000\n",
      "\n",
      "\n",
      "Train_Set\n",
      "[[13254  5437]\n",
      " [ 1903  3406]]\n",
      "              precision    recall  f1-score   support\n",
      "\n",
      "           0       0.87      0.71      0.78     18691\n",
      "           1       0.39      0.64      0.48      5309\n",
      "\n",
      "    accuracy                           0.69     24000\n",
      "   macro avg       0.63      0.68      0.63     24000\n",
      "weighted avg       0.77      0.69      0.72     24000\n",
      "\n"
     ]
    }
   ],
   "source": [
    "pipe_log_model.fit(X_train,y_train)\n",
    "eval_metric(pipe_log_model, X_train, y_train, X_test, y_test)"
   ]
  },
  {
   "cell_type": "code",
   "execution_count": 21,
   "metadata": {},
   "outputs": [],
   "source": [
    "from sklearn.model_selection import cross_validate"
   ]
  },
  {
   "cell_type": "code",
   "execution_count": 22,
   "metadata": {},
   "outputs": [
    {
     "data": {
      "text/plain": [
       "test_score     0.479371\n",
       "train_score    0.480982\n",
       "dtype: float64"
      ]
     },
     "execution_count": 22,
     "metadata": {},
     "output_type": "execute_result"
    }
   ],
   "source": [
    "operations=[('OneHotEncoder',column_trans),('log',LogisticRegression(class_weight='balanced',random_state=101))]\n",
    "\n",
    "pipe_log_model=Pipeline(steps=operations)\n",
    "\n",
    "scores=cross_validate(pipe_log_model, X_train,y_train, cv=10, scoring=\"f1\",return_train_score=True)\n",
    "df_scores = pd.DataFrame(scores, index = range(1, 11))\n",
    "df_scores.mean()[2:]"
   ]
  },
  {
   "cell_type": "markdown",
   "metadata": {
    "heading_collapsed": true,
    "hidden": true,
    "id": "lPelWxsU1b7C"
   },
   "source": [
    "### Logistic Model GridsearchCV"
   ]
  },
  {
   "cell_type": "code",
   "execution_count": 23,
   "metadata": {},
   "outputs": [],
   "source": [
    "from sklearn.model_selection import GridSearchCV"
   ]
  },
  {
   "cell_type": "code",
   "execution_count": 24,
   "metadata": {
    "id": "PNZyqeNY15nP"
   },
   "outputs": [],
   "source": [
    "param_grid = {\n",
    "    \"log__C\": [0.1, 0.5],\n",
    "    'log__penalty': [\"l1\", \"l2\"],\n",
    "    'log__solver': ['liblinear', 'lbfgs'],\n",
    "}"
   ]
  },
  {
   "cell_type": "code",
   "execution_count": 25,
   "metadata": {},
   "outputs": [],
   "source": [
    "operations = [(\"OneHotEncoder\", column_trans), (\"log\", LogisticRegression(class_weight='balanced',max_iter=10000,\n",
    "                                                                          random_state=101))]\n",
    "\n",
    "model = Pipeline(steps=operations)\n",
    "\n",
    "log_model_grid = GridSearchCV(model,\n",
    "                              param_grid,\n",
    "                              verbose=3,\n",
    "                              scoring=\"recall\",\n",
    "                              n_jobs=-1, cv=10,return_train_score=True)"
   ]
  },
  {
   "cell_type": "code",
   "execution_count": 26,
   "metadata": {},
   "outputs": [
    {
     "name": "stdout",
     "output_type": "stream",
     "text": [
      "Fitting 10 folds for each of 8 candidates, totalling 80 fits\n"
     ]
    },
    {
     "data": {
      "text/plain": [
       "GridSearchCV(cv=10,\n",
       "             estimator=Pipeline(steps=[('OneHotEncoder',\n",
       "                                        ColumnTransformer(remainder=MinMaxScaler(),\n",
       "                                                          transformers=[('onehotencoder',\n",
       "                                                                         OneHotEncoder(handle_unknown='ignore',\n",
       "                                                                                       sparse=False),\n",
       "                                                                         Index(['SEX', 'EDUCATION', 'MARRIAGE'], dtype='object'))])),\n",
       "                                       ('log',\n",
       "                                        LogisticRegression(class_weight='balanced',\n",
       "                                                           max_iter=10000,\n",
       "                                                           random_state=101))]),\n",
       "             n_jobs=-1,\n",
       "             param_grid={'log__C': [0.1, 0.5], 'log__penalty': ['l1', 'l2'],\n",
       "                         'log__solver': ['liblinear', 'lbfgs']},\n",
       "             return_train_score=True, scoring='recall', verbose=3)"
      ]
     },
     "execution_count": 26,
     "metadata": {},
     "output_type": "execute_result"
    }
   ],
   "source": [
    "log_model_grid.fit(X_train,y_train)"
   ]
  },
  {
   "cell_type": "code",
   "execution_count": 27,
   "metadata": {},
   "outputs": [
    {
     "data": {
      "text/plain": [
       "Pipeline(steps=[('OneHotEncoder',\n",
       "                 ColumnTransformer(remainder=MinMaxScaler(),\n",
       "                                   transformers=[('onehotencoder',\n",
       "                                                  OneHotEncoder(handle_unknown='ignore',\n",
       "                                                                sparse=False),\n",
       "                                                  Index(['SEX', 'EDUCATION', 'MARRIAGE'], dtype='object'))])),\n",
       "                ('log',\n",
       "                 LogisticRegression(C=0.5, class_weight='balanced',\n",
       "                                    max_iter=10000, penalty='l1',\n",
       "                                    random_state=101, solver='liblinear'))])"
      ]
     },
     "execution_count": 27,
     "metadata": {},
     "output_type": "execute_result"
    }
   ],
   "source": [
    "log_model_grid.best_estimator_"
   ]
  },
  {
   "cell_type": "code",
   "execution_count": 28,
   "metadata": {},
   "outputs": [
    {
     "data": {
      "text/plain": [
       "{'log__C': 0.5, 'log__penalty': 'l1', 'log__solver': 'liblinear'}"
      ]
     },
     "execution_count": 28,
     "metadata": {},
     "output_type": "execute_result"
    }
   ],
   "source": [
    "log_model_grid.best_params_"
   ]
  },
  {
   "cell_type": "code",
   "execution_count": 29,
   "metadata": {},
   "outputs": [
    {
     "data": {
      "text/plain": [
       "4"
      ]
     },
     "execution_count": 29,
     "metadata": {},
     "output_type": "execute_result"
    }
   ],
   "source": [
    "log_model_grid.best_index_"
   ]
  },
  {
   "cell_type": "code",
   "execution_count": 30,
   "metadata": {},
   "outputs": [
    {
     "data": {
      "text/plain": [
       "mean_test_score     0.641553\n",
       "mean_train_score    0.643247\n",
       "Name: 4, dtype: object"
      ]
     },
     "execution_count": 30,
     "metadata": {},
     "output_type": "execute_result"
    }
   ],
   "source": [
    "pd.DataFrame(log_model_grid.cv_results_).loc[4,['mean_test_score','mean_train_score']]"
   ]
  },
  {
   "cell_type": "code",
   "execution_count": 31,
   "metadata": {},
   "outputs": [
    {
     "name": "stdout",
     "output_type": "stream",
     "text": [
      "Test_Set\n",
      "[[3275 1398]\n",
      " [ 476  851]]\n",
      "              precision    recall  f1-score   support\n",
      "\n",
      "           0       0.87      0.70      0.78      4673\n",
      "           1       0.38      0.64      0.48      1327\n",
      "\n",
      "    accuracy                           0.69      6000\n",
      "   macro avg       0.63      0.67      0.63      6000\n",
      "weighted avg       0.76      0.69      0.71      6000\n",
      "\n",
      "\n",
      "Train_Set\n",
      "[[13232  5459]\n",
      " [ 1886  3423]]\n",
      "              precision    recall  f1-score   support\n",
      "\n",
      "           0       0.88      0.71      0.78     18691\n",
      "           1       0.39      0.64      0.48      5309\n",
      "\n",
      "    accuracy                           0.69     24000\n",
      "   macro avg       0.63      0.68      0.63     24000\n",
      "weighted avg       0.77      0.69      0.72     24000\n",
      "\n"
     ]
    }
   ],
   "source": [
    "eval_metric(log_model_grid, X_train, y_train, X_test, y_test)"
   ]
  },
  {
   "cell_type": "code",
   "execution_count": 47,
   "metadata": {},
   "outputs": [
    {
     "data": {
      "image/png": "[encoded data removed]",
      "text/plain": [
       "<Figure size 640x480 with 1 Axes>"
      ]
     },
     "metadata": {},
     "output_type": "display_data"
    }
   ],
   "source": [
    "from scikitplot.metrics import plot_roc, precision_recall_curve\n",
    "from scikitplot.metrics import plot_precision_recall\n",
    "\n",
    "\n",
    "operations = [(\"OneHotEncoder\", column_trans), (\"log\", LogisticRegression(C=0.5, penalty=\"l1\", solver=\"liblinear\", class_weight='balanced',max_iter=10000,\n",
    "                                                                          random_state=101))]\n",
    "\n",
    "model = Pipeline(steps=operations)\n",
    "\n",
    "model.fit(X_train, y_train)\n",
    "\n",
    "y_pred_proba = model.predict_proba(X_test)\n",
    "    \n",
    "plot_precision_recall(y_test, y_pred_proba)\n",
    "plt.show();"
   ]
  },
  {
   "cell_type": "code",
   "execution_count": 33,
   "metadata": {},
   "outputs": [
    {
     "data": {
      "text/plain": [
       "0.5133245552382275"
      ]
     },
     "execution_count": 33,
     "metadata": {},
     "output_type": "execute_result"
    }
   ],
   "source": [
    "from sklearn.metrics import average_precision_score\n",
    "\n",
    "y_test_dummies=pd.get_dummies(y_test).values\n",
    "\n",
    "average_precision_score(y_test_dummies[:,1],y_pred_proba[:,1])"
   ]
  },
  {
   "cell_type": "code",
   "execution_count": 34,
   "metadata": {},
   "outputs": [],
   "source": [
    "from sklearn.metrics import accuracy_score, f1_score, recall_score, precision_score"
   ]
  },
  {
   "cell_type": "code",
   "execution_count": 35,
   "metadata": {},
   "outputs": [],
   "source": [
    "y_pred = log_model_grid.predict(X_test)\n",
    "\n",
    "log_AP = average_precision_score(y_test_dummies[:,1],y_pred_proba[:,1])\n",
    "log_f1 = f1_score(y_test, y_pred, average=None)\n",
    "log_recall = recall_score(y_test, y_pred, average=None)"
   ]
  },
  {
   "cell_type": "markdown",
   "metadata": {
    "heading_collapsed": true,
    "hidden": true,
    "id": "GM0PL5eZ1b7E"
   },
   "source": [
    "## 2. SVC"
   ]
  },
  {
   "cell_type": "markdown",
   "metadata": {
    "heading_collapsed": true,
    "hidden": true,
    "id": "P3j_Xk1L1b7E"
   },
   "source": [
    "### Vanilla SVC model "
   ]
  },
  {
   "cell_type": "code",
   "execution_count": 36,
   "metadata": {},
   "outputs": [],
   "source": [
    "from sklearn.svm import SVC"
   ]
  },
  {
   "cell_type": "code",
   "execution_count": 37,
   "metadata": {},
   "outputs": [],
   "source": [
    "operations_svc = [(\"OneHotEncoder\", column_trans), (\"svc\", SVC(class_weight=\"balanced\",random_state=101))]\n",
    "\n",
    "pipe_svc_model = Pipeline(steps=operations_svc)"
   ]
  },
  {
   "cell_type": "code",
   "execution_count": 38,
   "metadata": {
    "id": "pro8T6CM19vX"
   },
   "outputs": [
    {
     "name": "stdout",
     "output_type": "stream",
     "text": [
      "Test_Set\n",
      "[[3933  740]\n",
      " [ 595  732]]\n",
      "              precision    recall  f1-score   support\n",
      "\n",
      "           0       0.87      0.84      0.85      4673\n",
      "           1       0.50      0.55      0.52      1327\n",
      "\n",
      "    accuracy                           0.78      6000\n",
      "   macro avg       0.68      0.70      0.69      6000\n",
      "weighted avg       0.79      0.78      0.78      6000\n",
      "\n",
      "\n",
      "Train_Set\n",
      "[[15712  2979]\n",
      " [ 2322  2987]]\n",
      "              precision    recall  f1-score   support\n",
      "\n",
      "           0       0.87      0.84      0.86     18691\n",
      "           1       0.50      0.56      0.53      5309\n",
      "\n",
      "    accuracy                           0.78     24000\n",
      "   macro avg       0.69      0.70      0.69     24000\n",
      "weighted avg       0.79      0.78      0.78     24000\n",
      "\n"
     ]
    }
   ],
   "source": [
    "pipe_svc_model.fit(X_train, y_train)\n",
    "\n",
    "eval_metric(pipe_svc_model, X_train, y_train, X_test, y_test)"
   ]
  },
  {
   "cell_type": "code",
   "execution_count": 39,
   "metadata": {},
   "outputs": [
    {
     "data": {
      "text/plain": [
       "test_score     0.519703\n",
       "train_score    0.530403\n",
       "dtype: float64"
      ]
     },
     "execution_count": 39,
     "metadata": {},
     "output_type": "execute_result"
    }
   ],
   "source": [
    "model = Pipeline(steps=operations_svc)\n",
    "\n",
    "scores = cross_validate(model, X_train, y_train, scoring = \"f1\", cv = 5,return_train_score=True)\n",
    "df_scores = pd.DataFrame(scores, index = range(1, 6))\n",
    "df_scores.mean()[2:]"
   ]
  },
  {
   "cell_type": "markdown",
   "metadata": {
    "heading_collapsed": true,
    "hidden": true,
    "id": "28y9nWxG1b7E"
   },
   "source": [
    "###  SVC Model GridsearchCV"
   ]
  },
  {
   "cell_type": "code",
   "execution_count": 40,
   "metadata": {
    "id": "4dFocgCo1-0Z"
   },
   "outputs": [],
   "source": [
    "param_grid = {\n",
    "    'svc__C': [.5,1],\n",
    "    'svc__gamma': [\"scale\", \"auto\", 0.01]\n",
    "}"
   ]
  },
  {
   "cell_type": "code",
   "execution_count": 41,
   "metadata": {},
   "outputs": [],
   "source": [
    "operations_svc = [(\"OneHotEncoder\", column_trans), (\"svc\", SVC(class_weight=\"balanced\",random_state=101))]\n",
    "\n",
    "model = Pipeline(steps=operations_svc)\n",
    "\n",
    "svm_model_grid = GridSearchCV(model,\n",
    "                              param_grid,\n",
    "                              verbose=3,\n",
    "                              scoring=\"recall\",\n",
    "                              n_jobs=-1,return_train_score=True)"
   ]
  },
  {
   "cell_type": "code",
   "execution_count": 42,
   "metadata": {},
   "outputs": [
    {
     "name": "stdout",
     "output_type": "stream",
     "text": [
      "Fitting 5 folds for each of 6 candidates, totalling 30 fits\n"
     ]
    },
    {
     "data": {
      "text/plain": [
       "GridSearchCV(estimator=Pipeline(steps=[('OneHotEncoder',\n",
       "                                        ColumnTransformer(remainder=MinMaxScaler(),\n",
       "                                                          transformers=[('onehotencoder',\n",
       "                                                                         OneHotEncoder(handle_unknown='ignore',\n",
       "                                                                                       sparse=False),\n",
       "                                                                         Index(['SEX', 'EDUCATION', 'MARRIAGE'], dtype='object'))])),\n",
       "                                       ('svc',\n",
       "                                        SVC(class_weight='balanced',\n",
       "                                            random_state=101))]),\n",
       "             n_jobs=-1,\n",
       "             param_grid={'svc__C': [0.5, 1],\n",
       "                         'svc__gamma': ['scale', 'auto', 0.01]},\n",
       "             return_train_score=True, scoring='recall', verbose=3)"
      ]
     },
     "execution_count": 42,
     "metadata": {},
     "output_type": "execute_result"
    }
   ],
   "source": [
    "svm_model_grid.fit(X_train, y_train)"
   ]
  },
  {
   "cell_type": "code",
   "execution_count": 43,
   "metadata": {},
   "outputs": [
    {
     "data": {
      "text/plain": [
       "{'svc__C': 0.5, 'svc__gamma': 0.01}"
      ]
     },
     "execution_count": 43,
     "metadata": {},
     "output_type": "execute_result"
    }
   ],
   "source": [
    "svm_model_grid.best_params_"
   ]
  },
  {
   "cell_type": "code",
   "execution_count": 44,
   "metadata": {},
   "outputs": [
    {
     "data": {
      "text/plain": [
       "2"
      ]
     },
     "execution_count": 44,
     "metadata": {},
     "output_type": "execute_result"
    }
   ],
   "source": [
    "svm_model_grid.best_index_"
   ]
  },
  {
   "cell_type": "code",
   "execution_count": 45,
   "metadata": {},
   "outputs": [
    {
     "name": "stdout",
     "output_type": "stream",
     "text": [
      "Test_Set\n",
      "[[3800  873]\n",
      " [ 581  746]]\n",
      "              precision    recall  f1-score   support\n",
      "\n",
      "           0       0.87      0.81      0.84      4673\n",
      "           1       0.46      0.56      0.51      1327\n",
      "\n",
      "    accuracy                           0.76      6000\n",
      "   macro avg       0.66      0.69      0.67      6000\n",
      "weighted avg       0.78      0.76      0.77      6000\n",
      "\n",
      "\n",
      "Train_Set\n",
      "[[15077  3614]\n",
      " [ 2390  2919]]\n",
      "              precision    recall  f1-score   support\n",
      "\n",
      "           0       0.86      0.81      0.83     18691\n",
      "           1       0.45      0.55      0.49      5309\n",
      "\n",
      "    accuracy                           0.75     24000\n",
      "   macro avg       0.65      0.68      0.66     24000\n",
      "weighted avg       0.77      0.75      0.76     24000\n",
      "\n"
     ]
    }
   ],
   "source": [
    "eval_metric(svm_model_grid, X_train, y_train, X_test, y_test)"
   ]
  },
  {
   "cell_type": "code",
   "execution_count": 51,
   "metadata": {},
   "outputs": [
    {
     "data": {
      "text/plain": [
       "array([ 0.02416962, -0.96324677, -1.03303884, ..., -0.62260573,\n",
       "       -0.99917687, -0.82586586])"
      ]
     },
     "execution_count": 51,
     "metadata": {},
     "output_type": "execute_result"
    }
   ],
   "source": [
    "model.decision_function(X_test)"
   ]
  },
  {
   "cell_type": "code",
   "execution_count": 53,
   "metadata": {},
   "outputs": [
    {
     "data": {
      "image/png": "[encoded data removed]",
      "text/plain": [
       "<Figure size 640x480 with 1 Axes>"
      ]
     },
     "metadata": {},
     "output_type": "display_data"
    }
   ],
   "source": [
    "operations_svc = [(\"OneHotEncoder\", column_trans), (\"svc\", SVC(C=.5,gamma=0.01, probability=True,class_weight=\"balanced\",random_state=101))]\n",
    "\n",
    "model = Pipeline(steps=operations_svc)\n",
    "\n",
    "model.fit(X_train, y_train)\n",
    "\n",
    "decision_function=model.decision_function(X_test)\n",
    "\n",
    "y_pred_proba = model.predict_proba(X_test)\n",
    "\n",
    "plot_precision_recall(y_test,y_pred_proba)\n",
    "plt.show();"
   ]
  },
  {
   "cell_type": "code",
   "execution_count": 56,
   "metadata": {},
   "outputs": [],
   "source": [
    "y_pred = svm_model_grid.predict(X_test)\n",
    "\n",
    "svc_AP = average_precision_score(y_test_dummies[:,1],y_pred_proba[:,1])\n",
    "svc_f1 = f1_score(y_test, y_pred, average=None)\n",
    "svc_recall = recall_score(y_test, y_pred, average=None)"
   ]
  },
  {
   "cell_type": "markdown",
   "metadata": {
    "heading_collapsed": true,
    "hidden": true,
    "id": "bDX_iLIls74C"
   },
   "source": [
    "## 3. RF"
   ]
  },
  {
   "cell_type": "markdown",
   "metadata": {
    "heading_collapsed": true,
    "hidden": true,
    "id": "qaTzrT6P1b7G"
   },
   "source": [
    "### Vanilla RF Model"
   ]
  },
  {
   "cell_type": "code",
   "execution_count": 57,
   "metadata": {
    "id": "gvtqL0Qg2CKf"
   },
   "outputs": [
    {
     "data": {
      "text/plain": [
       "Index(['SEX', 'EDUCATION', 'MARRIAGE'], dtype='object')"
      ]
     },
     "execution_count": 57,
     "metadata": {},
     "output_type": "execute_result"
    }
   ],
   "source": [
    "cat"
   ]
  },
  {
   "cell_type": "code",
   "execution_count": 58,
   "metadata": {},
   "outputs": [],
   "source": [
    "from sklearn.compose import make_column_transformer\n",
    "from sklearn.preprocessing import OrdinalEncoder\n",
    "\n",
    "\n",
    "ord_enc = OrdinalEncoder(handle_unknown='use_encoded_value', unknown_value=-1)\n",
    "\n",
    "column_trans = make_column_transformer((ord_enc, cat), remainder='passthrough')"
   ]
  },
  {
   "cell_type": "code",
   "execution_count": 59,
   "metadata": {},
   "outputs": [
    {
     "data": {
      "text/plain": [
       "Pipeline(steps=[('OrdinalEncoder',\n",
       "                 ColumnTransformer(remainder='passthrough',\n",
       "                                   transformers=[('ordinalencoder',\n",
       "                                                  OrdinalEncoder(handle_unknown='use_encoded_value',\n",
       "                                                                 unknown_value=-1),\n",
       "                                                  Index(['SEX', 'EDUCATION', 'MARRIAGE'], dtype='object'))])),\n",
       "                ('RF_model',\n",
       "                 RandomForestClassifier(class_weight='balanced',\n",
       "                                        random_state=101))])"
      ]
     },
     "execution_count": 59,
     "metadata": {},
     "output_type": "execute_result"
    }
   ],
   "source": [
    "from sklearn.ensemble import RandomForestClassifier\n",
    "\n",
    "\n",
    "operations_rf = [(\"OrdinalEncoder\", column_trans), (\"RF_model\", RandomForestClassifier(class_weight=\"balanced\", \n",
    "                                                                                    random_state=101))]\n",
    "\n",
    "pipe_model_rf = Pipeline(steps=operations_rf)\n",
    "\n",
    "pipe_model_rf.fit(X_train, y_train)"
   ]
  },
  {
   "cell_type": "code",
   "execution_count": 60,
   "metadata": {},
   "outputs": [
    {
     "name": "stdout",
     "output_type": "stream",
     "text": [
      "Test_Set\n",
      "[[4465  208]\n",
      " [ 869  458]]\n",
      "              precision    recall  f1-score   support\n",
      "\n",
      "           0       0.84      0.96      0.89      4673\n",
      "           1       0.69      0.35      0.46      1327\n",
      "\n",
      "    accuracy                           0.82      6000\n",
      "   macro avg       0.76      0.65      0.68      6000\n",
      "weighted avg       0.80      0.82      0.80      6000\n",
      "\n",
      "\n",
      "Train_Set\n",
      "[[18691     0]\n",
      " [    1  5308]]\n",
      "              precision    recall  f1-score   support\n",
      "\n",
      "           0       1.00      1.00      1.00     18691\n",
      "           1       1.00      1.00      1.00      5309\n",
      "\n",
      "    accuracy                           1.00     24000\n",
      "   macro avg       1.00      1.00      1.00     24000\n",
      "weighted avg       1.00      1.00      1.00     24000\n",
      "\n"
     ]
    }
   ],
   "source": [
    "eval_metric(pipe_model_rf, X_train, y_train, X_test, y_test)"
   ]
  },
  {
   "cell_type": "code",
   "execution_count": 62,
   "metadata": {},
   "outputs": [
    {
     "data": {
      "text/plain": [
       "test_score     0.442474\n",
       "train_score    0.999976\n",
       "dtype: float64"
      ]
     },
     "execution_count": 62,
     "metadata": {},
     "output_type": "execute_result"
    }
   ],
   "source": [
    "operations_rf = [(\"OrdinalEncoder\", column_trans), (\"RF_model\", RandomForestClassifier(class_weight=\"balanced\", \n",
    "                                                                                    random_state=101))]\n",
    "\n",
    "model = Pipeline(steps=operations_rf)\n",
    "\n",
    "scores = cross_validate(model, X_train, y_train, scoring = \"f1\", cv = 5,return_train_score=True)\n",
    "df_scores = pd.DataFrame(scores, index = range(1, 6))\n",
    "df_scores.mean()[2:]"
   ]
  },
  {
   "cell_type": "markdown",
   "metadata": {
    "heading_collapsed": true,
    "hidden": true,
    "id": "MkLAZ_M41b7G"
   },
   "source": [
    "### RF Model GridsearchCV"
   ]
  },
  {
   "cell_type": "code",
   "execution_count": 63,
   "metadata": {},
   "outputs": [],
   "source": [
    "param_grid = {'RF_model__n_estimators':[400,500],\n",
    "             'RF_model__max_depth':[2,3]} "
   ]
  },
  {
   "cell_type": "code",
   "execution_count": 65,
   "metadata": {},
   "outputs": [],
   "source": [
    "operations_rf = [(\"OrdinalEncoder\", column_trans), (\"RF_model\", RandomForestClassifier(class_weight=\"balanced\", \n",
    "                                                                                    random_state=101))]\n",
    "\n",
    "model = Pipeline(steps=operations_rf)\n",
    "rf_grid_model = GridSearchCV(model,\n",
    "                             param_grid,\n",
    "                             verbose=3,\n",
    "                             scoring=\"recall\",\n",
    "                             n_jobs=-1, return_train_score=True)"
   ]
  },
  {
   "cell_type": "code",
   "execution_count": 66,
   "metadata": {},
   "outputs": [
    {
     "name": "stdout",
     "output_type": "stream",
     "text": [
      "Fitting 5 folds for each of 4 candidates, totalling 20 fits\n"
     ]
    },
    {
     "data": {
      "text/plain": [
       "GridSearchCV(estimator=Pipeline(steps=[('OrdinalEncoder',\n",
       "                                        ColumnTransformer(remainder='passthrough',\n",
       "                                                          transformers=[('ordinalencoder',\n",
       "                                                                         OrdinalEncoder(handle_unknown='use_encoded_value',\n",
       "                                                                                        unknown_value=-1),\n",
       "                                                                         Index(['SEX', 'EDUCATION', 'MARRIAGE'], dtype='object'))])),\n",
       "                                       ('RF_model',\n",
       "                                        RandomForestClassifier(class_weight='balanced',\n",
       "                                                               random_state=101))]),\n",
       "             n_jobs=-1,\n",
       "             param_grid={'RF_model__max_depth': [2, 3],\n",
       "                         'RF_model__n_estimators': [400, 500]},\n",
       "             return_train_score=True, scoring='recall', verbose=3)"
      ]
     },
     "execution_count": 66,
     "metadata": {},
     "output_type": "execute_result"
    }
   ],
   "source": [
    "rf_grid_model.fit(X_train,y_train)"
   ]
  },
  {
   "cell_type": "code",
   "execution_count": 67,
   "metadata": {},
   "outputs": [
    {
     "data": {
      "text/plain": [
       "Pipeline(steps=[('OrdinalEncoder',\n",
       "                 ColumnTransformer(remainder='passthrough',\n",
       "                                   transformers=[('ordinalencoder',\n",
       "                                                  OrdinalEncoder(handle_unknown='use_encoded_value',\n",
       "                                                                 unknown_value=-1),\n",
       "                                                  Index(['SEX', 'EDUCATION', 'MARRIAGE'], dtype='object'))])),\n",
       "                ('RF_model',\n",
       "                 RandomForestClassifier(class_weight='balanced', max_depth=3,\n",
       "                                        n_estimators=500, random_state=101))])"
      ]
     },
     "execution_count": 67,
     "metadata": {},
     "output_type": "execute_result"
    }
   ],
   "source": [
    "rf_grid_model.best_estimator_"
   ]
  },
  {
   "cell_type": "code",
   "execution_count": 68,
   "metadata": {
    "id": "hpmPr3202EbD"
   },
   "outputs": [
    {
     "data": {
      "text/plain": [
       "{'RF_model__max_depth': 3, 'RF_model__n_estimators': 500}"
      ]
     },
     "execution_count": 68,
     "metadata": {},
     "output_type": "execute_result"
    }
   ],
   "source": [
    "rf_grid_model.best_params_"
   ]
  },
  {
   "cell_type": "code",
   "execution_count": 69,
   "metadata": {},
   "outputs": [
    {
     "data": {
      "text/plain": [
       "3"
      ]
     },
     "execution_count": 69,
     "metadata": {},
     "output_type": "execute_result"
    }
   ],
   "source": [
    "rf_grid_model.best_index_"
   ]
  },
  {
   "cell_type": "code",
   "execution_count": 70,
   "metadata": {},
   "outputs": [
    {
     "data": {
      "text/plain": [
       "mean_test_score     0.585612\n",
       "mean_train_score    0.588906\n",
       "Name: 3, dtype: object"
      ]
     },
     "execution_count": 70,
     "metadata": {},
     "output_type": "execute_result"
    }
   ],
   "source": [
    "pd.DataFrame(rf_grid_model.cv_results_).loc[3,['mean_test_score','mean_train_score']]"
   ]
  },
  {
   "cell_type": "code",
   "execution_count": 71,
   "metadata": {},
   "outputs": [
    {
     "name": "stdout",
     "output_type": "stream",
     "text": [
      "Test_Set\n",
      "[[3916  757]\n",
      " [ 557  770]]\n",
      "              precision    recall  f1-score   support\n",
      "\n",
      "           0       0.88      0.84      0.86      4673\n",
      "           1       0.50      0.58      0.54      1327\n",
      "\n",
      "    accuracy                           0.78      6000\n",
      "   macro avg       0.69      0.71      0.70      6000\n",
      "weighted avg       0.79      0.78      0.79      6000\n",
      "\n",
      "\n",
      "Train_Set\n",
      "[[15532  3159]\n",
      " [ 2186  3123]]\n",
      "              precision    recall  f1-score   support\n",
      "\n",
      "           0       0.88      0.83      0.85     18691\n",
      "           1       0.50      0.59      0.54      5309\n",
      "\n",
      "    accuracy                           0.78     24000\n",
      "   macro avg       0.69      0.71      0.70     24000\n",
      "weighted avg       0.79      0.78      0.78     24000\n",
      "\n"
     ]
    }
   ],
   "source": [
    "eval_metric(rf_grid_model, X_train, y_train, X_test, y_test)"
   ]
  },
  {
   "cell_type": "code",
   "execution_count": 72,
   "metadata": {},
   "outputs": [
    {
     "data": {
      "image/png": "[encoded data removed]",
      "text/plain": [
       "<Figure size 640x480 with 1 Axes>"
      ]
     },
     "metadata": {},
     "output_type": "display_data"
    }
   ],
   "source": [
    "operations_rf = [(\"OrdinalEncoder\", column_trans), (\"RF_model\", RandomForestClassifier(class_weight=\"balanced\", \n",
    "                                                                                       max_depth=3,\n",
    "                                                                                       n_estimators=500,\n",
    "                                                                                    random_state=101))]\n",
    "\n",
    "model = Pipeline(steps=operations_rf)\n",
    "\n",
    "model.fit(X_train, y_train)\n",
    "\n",
    "y_pred_proba = model.predict_proba(X_test)\n",
    "\n",
    "plot_precision_recall(y_test,y_pred_proba)\n",
    "plt.show();"
   ]
  },
  {
   "cell_type": "code",
   "execution_count": 73,
   "metadata": {},
   "outputs": [],
   "source": [
    "y_pred = rf_grid_model.predict(X_test)\n",
    "\n",
    "rf_AP = average_precision_score(y_test_dummies[:,1],y_pred_proba[:,1])\n",
    "rf_f1 = f1_score(y_test, y_pred, average=None)\n",
    "rf_recall = recall_score(y_test, y_pred, average=None)"
   ]
  },
  {
   "cell_type": "markdown",
   "metadata": {
    "heading_collapsed": true,
    "hidden": true,
    "id": "PvcPc4V81b7H"
   },
   "source": [
    "## 4. XGBoost"
   ]
  },
  {
   "cell_type": "markdown",
   "metadata": {
    "heading_collapsed": true,
    "hidden": true,
    "id": "MuxxUFoW1b7H"
   },
   "source": [
    "### Vanilla XGBoost Model"
   ]
  },
  {
   "cell_type": "code",
   "execution_count": 75,
   "metadata": {},
   "outputs": [],
   "source": [
    "from xgboost import XGBClassifier"
   ]
  },
  {
   "cell_type": "code",
   "execution_count": 76,
   "metadata": {
    "id": "Nfi1aa152HbR"
   },
   "outputs": [
    {
     "data": {
      "text/plain": [
       "Pipeline(steps=[('OrdinalEncoder',\n",
       "                 ColumnTransformer(remainder='passthrough',\n",
       "                                   transformers=[('ordinalencoder',\n",
       "                                                  OrdinalEncoder(handle_unknown='use_encoded_value',\n",
       "                                                                 unknown_value=-1),\n",
       "                                                  Index(['SEX', 'EDUCATION', 'MARRIAGE'], dtype='object'))])),\n",
       "                ('XGB_model',\n",
       "                 XGBClassifier(base_score=0.5, booster='gbtree',\n",
       "                               colsample_bylevel=1, colsample_bynode=1,\n",
       "                               colsample_bytree=1,...\n",
       "                               gamma=0, gpu_id=-1, importance_type=None,\n",
       "                               interaction_constraints='',\n",
       "                               learning_rate=0.300000012, max_delta_step=0,\n",
       "                               max_depth=6, min_child_weight=1, missing=nan,\n",
       "                               monotone_constraints='()', n_estimators=100,\n",
       "                               n_jobs=4, num_parallel_tree=1, predictor='auto',\n",
       "                               random_state=101, reg_alpha=0, reg_lambda=1,\n",
       "                               scale_pos_weight=1, subsample=1,\n",
       "                               tree_method='exact', validate_parameters=1,\n",
       "                               verbosity=None))])"
      ]
     },
     "execution_count": 76,
     "metadata": {},
     "output_type": "execute_result"
    }
   ],
   "source": [
    "operations_xgb = [(\"OrdinalEncoder\", column_trans), (\"XGB_model\", XGBClassifier(random_state=101))]\n",
    "\n",
    "pipe_model_xgb = Pipeline(steps=operations_xgb)\n",
    "\n",
    "pipe_model_xgb.fit(X_train, y_train, XGB_model__eval_metric='logloss')"
   ]
  },
  {
   "cell_type": "code",
   "execution_count": 77,
   "metadata": {},
   "outputs": [
    {
     "name": "stdout",
     "output_type": "stream",
     "text": [
      "Test_Set\n",
      "[[4419  254]\n",
      " [ 813  514]]\n",
      "              precision    recall  f1-score   support\n",
      "\n",
      "           0       0.84      0.95      0.89      4673\n",
      "           1       0.67      0.39      0.49      1327\n",
      "\n",
      "    accuracy                           0.82      6000\n",
      "   macro avg       0.76      0.67      0.69      6000\n",
      "weighted avg       0.81      0.82      0.80      6000\n",
      "\n",
      "\n",
      "Train_Set\n",
      "[[18273   418]\n",
      " [ 2293  3016]]\n",
      "              precision    recall  f1-score   support\n",
      "\n",
      "           0       0.89      0.98      0.93     18691\n",
      "           1       0.88      0.57      0.69      5309\n",
      "\n",
      "    accuracy                           0.89     24000\n",
      "   macro avg       0.88      0.77      0.81     24000\n",
      "weighted avg       0.89      0.89      0.88     24000\n",
      "\n"
     ]
    }
   ],
   "source": [
    "eval_metric(pipe_model_xgb, X_train, y_train, X_test, y_test)"
   ]
  },
  {
   "cell_type": "code",
   "execution_count": 78,
   "metadata": {},
   "outputs": [
    {
     "data": {
      "text/plain": [
       "array([0.64202022, 0.64202022, 0.64202022, ..., 0.64202022, 0.64202022,\n",
       "       0.64202022])"
      ]
     },
     "execution_count": 78,
     "metadata": {},
     "output_type": "execute_result"
    }
   ],
   "source": [
    "from sklearn.utils import class_weight\n",
    "classes_weights = class_weight.compute_sample_weight(class_weight='balanced', y=y_train)\n",
    "classes_weights"
   ]
  },
  {
   "cell_type": "code",
   "execution_count": 79,
   "metadata": {},
   "outputs": [
    {
     "data": {
      "text/html": [
       "<div>\n",
       "<style scoped>\n",
       "    .dataframe tbody tr th:only-of-type {\n",
       "        vertical-align: middle;\n",
       "    }\n",
       "\n",
       "    .dataframe tbody tr th {\n",
       "        vertical-align: top;\n",
       "    }\n",
       "\n",
       "    .dataframe thead th {\n",
       "        text-align: right;\n",
       "    }\n",
       "</style>\n",
       "<table border=\"1\" class=\"dataframe\">\n",
       "  <thead>\n",
       "    <tr style=\"text-align: right;\">\n",
       "      <th></th>\n",
       "      <th>weights</th>\n",
       "      <th>label</th>\n",
       "    </tr>\n",
       "  </thead>\n",
       "  <tbody>\n",
       "    <tr>\n",
       "      <th>987</th>\n",
       "      <td>0.64202</td>\n",
       "      <td>0</td>\n",
       "    </tr>\n",
       "    <tr>\n",
       "      <th>24779</th>\n",
       "      <td>0.64202</td>\n",
       "      <td>0</td>\n",
       "    </tr>\n",
       "    <tr>\n",
       "      <th>6504</th>\n",
       "      <td>0.64202</td>\n",
       "      <td>0</td>\n",
       "    </tr>\n",
       "    <tr>\n",
       "      <th>20570</th>\n",
       "      <td>0.64202</td>\n",
       "      <td>0</td>\n",
       "    </tr>\n",
       "    <tr>\n",
       "      <th>14478</th>\n",
       "      <td>0.64202</td>\n",
       "      <td>0</td>\n",
       "    </tr>\n",
       "  </tbody>\n",
       "</table>\n",
       "</div>"
      ],
      "text/plain": [
       "       weights  label\n",
       "987    0.64202      0\n",
       "24779  0.64202      0\n",
       "6504   0.64202      0\n",
       "20570  0.64202      0\n",
       "14478  0.64202      0"
      ]
     },
     "execution_count": 79,
     "metadata": {},
     "output_type": "execute_result"
    }
   ],
   "source": [
    "my_dict={'weights':classes_weights, 'label':y_train}\n",
    "comp = pd.DataFrame(my_dict)\n",
    "comp.head()"
   ]
  },
  {
   "cell_type": "code",
   "execution_count": 81,
   "metadata": {},
   "outputs": [
    {
     "data": {
      "text/plain": [
       "Pipeline(steps=[('OrdinalEncoder',\n",
       "                 ColumnTransformer(remainder='passthrough',\n",
       "                                   transformers=[('ordinalencoder',\n",
       "                                                  OrdinalEncoder(handle_unknown='use_encoded_value',\n",
       "                                                                 unknown_value=-1),\n",
       "                                                  Index(['SEX', 'EDUCATION', 'MARRIAGE'], dtype='object'))])),\n",
       "                ('XGB_model',\n",
       "                 XGBClassifier(base_score=0.5, booster='gbtree',\n",
       "                               colsample_bylevel=1, colsample_bynode=1,\n",
       "                               colsample_bytree=1,...\n",
       "                               gamma=0, gpu_id=-1, importance_type=None,\n",
       "                               interaction_constraints='',\n",
       "                               learning_rate=0.300000012, max_delta_step=0,\n",
       "                               max_depth=6, min_child_weight=1, missing=nan,\n",
       "                               monotone_constraints='()', n_estimators=100,\n",
       "                               n_jobs=4, num_parallel_tree=1, predictor='auto',\n",
       "                               random_state=101, reg_alpha=0, reg_lambda=1,\n",
       "                               scale_pos_weight=1, subsample=1,\n",
       "                               tree_method='exact', validate_parameters=1,\n",
       "                               verbosity=None))])"
      ]
     },
     "execution_count": 81,
     "metadata": {},
     "output_type": "execute_result"
    }
   ],
   "source": [
    "pipe_model_xgb.fit(X_train,y_train, XGB_model__eval_metric='logloss',XGB_model__sample_weight=classes_weights)"
   ]
  },
  {
   "cell_type": "code",
   "execution_count": 82,
   "metadata": {},
   "outputs": [
    {
     "name": "stdout",
     "output_type": "stream",
     "text": [
      "Test_Set\n",
      "[[3859  814]\n",
      " [ 539  788]]\n",
      "              precision    recall  f1-score   support\n",
      "\n",
      "           0       0.88      0.83      0.85      4673\n",
      "           1       0.49      0.59      0.54      1327\n",
      "\n",
      "    accuracy                           0.77      6000\n",
      "   macro avg       0.68      0.71      0.69      6000\n",
      "weighted avg       0.79      0.77      0.78      6000\n",
      "\n",
      "\n",
      "Train_Set\n",
      "[[16306  2385]\n",
      " [  689  4620]]\n",
      "              precision    recall  f1-score   support\n",
      "\n",
      "           0       0.96      0.87      0.91     18691\n",
      "           1       0.66      0.87      0.75      5309\n",
      "\n",
      "    accuracy                           0.87     24000\n",
      "   macro avg       0.81      0.87      0.83     24000\n",
      "weighted avg       0.89      0.87      0.88     24000\n",
      "\n"
     ]
    }
   ],
   "source": [
    "eval_metric(pipe_model_xgb, X_train, y_train, X_test, y_test)"
   ]
  },
  {
   "cell_type": "code",
   "execution_count": 83,
   "metadata": {},
   "outputs": [
    {
     "data": {
      "text/plain": [
       "test_score     0.519019\n",
       "train_score    0.787593\n",
       "dtype: float64"
      ]
     },
     "execution_count": 83,
     "metadata": {},
     "output_type": "execute_result"
    }
   ],
   "source": [
    "operations_xgb = [(\"OrdinalEncoder\", column_trans), (\"XGB_model\", XGBClassifier(random_state=101))]\n",
    "\n",
    "model = Pipeline(steps=operations_xgb)\n",
    "\n",
    "scores = cross_validate(model, X_train, y_train, scoring = \"f1\", cv = 5,return_train_score=True,\n",
    "                        fit_params={\"XGB_model__sample_weight\":classes_weights,'XGB_model__eval_metric':'logloss'})\n",
    "df_scores = pd.DataFrame(scores, index = range(1, 6))\n",
    "df_scores.mean()[2:]"
   ]
  },
  {
   "cell_type": "markdown",
   "metadata": {
    "heading_collapsed": true,
    "hidden": true,
    "id": "p3gH5QvE1b7I"
   },
   "source": [
    "### XGBoost Model GridsearchCV"
   ]
  },
  {
   "cell_type": "code",
   "execution_count": 84,
   "metadata": {},
   "outputs": [],
   "source": [
    "param_grid = {\"XGB_model__n_estimators\":[20, 40],\n",
    "              'XGB_model__max_depth':[1,2],\n",
    "              \"XGB_model__learning_rate\": [0.03, 0.05],\n",
    "              \"XGB_model__subsample\":[0.8, 1],\n",
    "              \"XGB_model__colsample_bytree\":[0.8, 1]}"
   ]
  },
  {
   "cell_type": "code",
   "execution_count": 86,
   "metadata": {},
   "outputs": [],
   "source": [
    "operations_xgb = [(\"OrdinalEncoder\", column_trans), (\"XGB_model\", XGBClassifier(random_state=101))]\n",
    "\n",
    "model = Pipeline(steps=operations_xgb)\n",
    "\n",
    "xgb_grid_model = GridSearchCV(model, \n",
    "                              param_grid, \n",
    "                              scoring=\"recall\", \n",
    "                              n_jobs = -1,\n",
    "                              cv=5,\n",
    "                              return_train_score=True\n",
    "                             )"
   ]
  },
  {
   "cell_type": "code",
   "execution_count": 87,
   "metadata": {
    "id": "72E3Cmnm2KOE"
   },
   "outputs": [
    {
     "data": {
      "text/plain": [
       "GridSearchCV(cv=5,\n",
       "             estimator=Pipeline(steps=[('OrdinalEncoder',\n",
       "                                        ColumnTransformer(remainder='passthrough',\n",
       "                                                          transformers=[('ordinalencoder',\n",
       "                                                                         OrdinalEncoder(handle_unknown='use_encoded_value',\n",
       "                                                                                        unknown_value=-1),\n",
       "                                                                         Index(['SEX', 'EDUCATION', 'MARRIAGE'], dtype='object'))])),\n",
       "                                       ('XGB_model',\n",
       "                                        XGBClassifier(base_score=None,\n",
       "                                                      booster=None,\n",
       "                                                      colsample_bylevel=None,\n",
       "                                                      colsample_...\n",
       "                                                      reg_alpha=None,\n",
       "                                                      reg_lambda=None,\n",
       "                                                      scale_pos_weight=None,\n",
       "                                                      subsample=None,\n",
       "                                                      tree_method=None,\n",
       "                                                      validate_parameters=None,\n",
       "                                                      verbosity=None))]),\n",
       "             n_jobs=-1,\n",
       "             param_grid={'XGB_model__colsample_bytree': [0.8, 1],\n",
       "                         'XGB_model__learning_rate': [0.03, 0.05],\n",
       "                         'XGB_model__max_depth': [1, 2],\n",
       "                         'XGB_model__n_estimators': [20, 40],\n",
       "                         'XGB_model__subsample': [0.8, 1]},\n",
       "             return_train_score=True, scoring='recall')"
      ]
     },
     "execution_count": 87,
     "metadata": {},
     "output_type": "execute_result"
    }
   ],
   "source": [
    "xgb_grid_model.fit(X_train, y_train, XGB_model__eval_metric='logloss',XGB_model__sample_weight=classes_weights)"
   ]
  },
  {
   "cell_type": "code",
   "execution_count": 88,
   "metadata": {},
   "outputs": [
    {
     "data": {
      "text/plain": [
       "Pipeline(steps=[('OrdinalEncoder',\n",
       "                 ColumnTransformer(remainder='passthrough',\n",
       "                                   transformers=[('ordinalencoder',\n",
       "                                                  OrdinalEncoder(handle_unknown='use_encoded_value',\n",
       "                                                                 unknown_value=-1),\n",
       "                                                  Index(['SEX', 'EDUCATION', 'MARRIAGE'], dtype='object'))])),\n",
       "                ('XGB_model',\n",
       "                 XGBClassifier(base_score=0.5, booster='gbtree',\n",
       "                               colsample_bylevel=1, colsample_bynode=1,\n",
       "                               colsample_bytree=0....\n",
       "                               gamma=0, gpu_id=-1, importance_type=None,\n",
       "                               interaction_constraints='', learning_rate=0.05,\n",
       "                               max_delta_step=0, max_depth=2,\n",
       "                               min_child_weight=1, missing=nan,\n",
       "                               monotone_constraints='()', n_estimators=40,\n",
       "                               n_jobs=4, num_parallel_tree=1, predictor='auto',\n",
       "                               random_state=101, reg_alpha=0, reg_lambda=1,\n",
       "                               scale_pos_weight=1, subsample=0.8,\n",
       "                               tree_method='exact', validate_parameters=1,\n",
       "                               verbosity=None))])"
      ]
     },
     "execution_count": 88,
     "metadata": {},
     "output_type": "execute_result"
    }
   ],
   "source": [
    "xgb_grid_model.best_estimator_"
   ]
  },
  {
   "cell_type": "code",
   "execution_count": 89,
   "metadata": {},
   "outputs": [
    {
     "data": {
      "text/plain": [
       "{'XGB_model__colsample_bytree': 0.8,\n",
       " 'XGB_model__learning_rate': 0.05,\n",
       " 'XGB_model__max_depth': 2,\n",
       " 'XGB_model__n_estimators': 40,\n",
       " 'XGB_model__subsample': 0.8}"
      ]
     },
     "execution_count": 89,
     "metadata": {},
     "output_type": "execute_result"
    }
   ],
   "source": [
    "xgb_grid_model.best_params_"
   ]
  },
  {
   "cell_type": "code",
   "execution_count": 90,
   "metadata": {
    "id": "4UOn_G0n2N2Z"
   },
   "outputs": [
    {
     "data": {
      "text/plain": [
       "14"
      ]
     },
     "execution_count": 90,
     "metadata": {},
     "output_type": "execute_result"
    }
   ],
   "source": [
    "xgb_grid_model.best_index_"
   ]
  },
  {
   "cell_type": "code",
   "execution_count": 91,
   "metadata": {},
   "outputs": [
    {
     "data": {
      "text/plain": [
       "mean_test_score     0.564139\n",
       "mean_train_score    0.566773\n",
       "Name: 14, dtype: object"
      ]
     },
     "execution_count": 91,
     "metadata": {},
     "output_type": "execute_result"
    }
   ],
   "source": [
    "pd.DataFrame(xgb_grid_model.cv_results_).loc[14,['mean_test_score','mean_train_score']]"
   ]
  },
  {
   "cell_type": "code",
   "execution_count": 92,
   "metadata": {},
   "outputs": [
    {
     "name": "stdout",
     "output_type": "stream",
     "text": [
      "Test_Set\n",
      "[[3914  759]\n",
      " [ 579  748]]\n",
      "              precision    recall  f1-score   support\n",
      "\n",
      "           0       0.87      0.84      0.85      4673\n",
      "           1       0.50      0.56      0.53      1327\n",
      "\n",
      "    accuracy                           0.78      6000\n",
      "   macro avg       0.68      0.70      0.69      6000\n",
      "weighted avg       0.79      0.78      0.78      6000\n",
      "\n",
      "\n",
      "Train_Set\n",
      "[[15617  3074]\n",
      " [ 2315  2994]]\n",
      "              precision    recall  f1-score   support\n",
      "\n",
      "           0       0.87      0.84      0.85     18691\n",
      "           1       0.49      0.56      0.53      5309\n",
      "\n",
      "    accuracy                           0.78     24000\n",
      "   macro avg       0.68      0.70      0.69     24000\n",
      "weighted avg       0.79      0.78      0.78     24000\n",
      "\n"
     ]
    }
   ],
   "source": [
    "eval_metric(xgb_grid_model, X_train, y_train, X_test, y_test)"
   ]
  },
  {
   "cell_type": "code",
   "execution_count": 94,
   "metadata": {},
   "outputs": [
    {
     "name": "stdout",
     "output_type": "stream",
     "text": [
      "[00:50:57] WARNING: C:/Users/Administrator/workspace/xgboost-win64_release_1.5.0/src/learner.cc:1115: Starting in XGBoost 1.3.0, the default evaluation metric used with the objective 'binary:logistic' was changed from 'error' to 'logloss'. Explicitly set eval_metric if you'd like to restore the old behavior.\n"
     ]
    },
    {
     "data": {
      "image/png": "[encoded data removed]",
      "text/plain": [
       "<Figure size 640x480 with 1 Axes>"
      ]
     },
     "metadata": {},
     "output_type": "display_data"
    }
   ],
   "source": [
    "from scikitplot.metrics import plot_roc, precision_recall_curve\n",
    "from scikitplot.metrics import plot_precision_recall\n",
    "\n",
    "\n",
    "operations_xgb = [(\"OrdinalEncoder\", column_trans), (\"XGB_model\", XGBClassifier(colsample_bytree=0.8, learning_rate=0.05, \n",
    "                                            max_depth=2, n_estimators=40, random_state=101,\n",
    "                                            subsample=0.8))]\n",
    "\n",
    "model = Pipeline(steps=operations_xgb)\n",
    "\n",
    "model.fit(X_train, y_train, XGB_model__sample_weight=classes_weights)\n",
    "\n",
    "y_pred_proba = model.predict_proba(X_test)\n",
    "    \n",
    "plot_precision_recall(y_test, y_pred_proba)\n",
    "plt.show()"
   ]
  },
  {
   "cell_type": "code",
   "execution_count": 95,
   "metadata": {},
   "outputs": [],
   "source": [
    "y_pred = xgb_grid_model.predict(X_test)\n",
    "\n",
    "xgb_AP = average_precision_score(y_test_dummies[:, 1], y_pred_proba[:, 1])\n",
    "xgb_f1 = f1_score(y_test, y_pred, average=None)\n",
    "xgb_recall = recall_score(y_test, y_pred, average=None)"
   ]
  },
  {
   "cell_type": "markdown",
   "metadata": {},
   "source": [
    "## Comparing Models"
   ]
  },
  {
   "cell_type": "code",
   "execution_count": 96,
   "metadata": {},
   "outputs": [
    {
     "data": {
      "image/png": "[encoded data removed]",
      "text/plain": [
       "<Figure size 1400x1000 with 3 Axes>"
      ]
     },
     "metadata": {},
     "output_type": "display_data"
    }
   ],
   "source": [
    "compare = pd.DataFrame({\"Model\": [\"Logistic Regression\", \"SVM\",  \"Random Forest\", \"XGBoost\"],\n",
    "                        \"F1\": [log_f1[0], svc_f1[0], rf_f1[0], xgb_f1[0]],\n",
    "                        \"Recall\": [log_recall[0], svc_recall[0], rf_recall[0], xgb_recall[0]],\n",
    "                        \"AP\": [log_AP, svc_AP, rf_AP, xgb_AP]})\n",
    "\n",
    "    \n",
    "plt.figure(figsize=(14,10))\n",
    "plt.subplot(311)\n",
    "compare = compare.sort_values(by=\"F1\", ascending=False)\n",
    "ax=sns.barplot(x=\"F1\", y=\"Model\", data=compare, palette=\"Blues_d\")\n",
    "ax.bar_label(ax.containers[0],fmt=\"%.3f\")\n",
    "\n",
    "plt.subplot(312)\n",
    "compare = compare.sort_values(by=\"Recall\", ascending=False)\n",
    "ax=sns.barplot(x=\"Recall\", y=\"Model\", data=compare, palette=\"Blues_d\")\n",
    "ax.bar_label(ax.containers[0],fmt=\"%.3f\")\n",
    "\n",
    "plt.subplot(313)\n",
    "compare = compare.sort_values(by=\"AP\", ascending=False)\n",
    "ax=sns.barplot(x=\"AP\", y=\"Model\", data=compare, palette=\"Blues_d\")\n",
    "ax.bar_label(ax.containers[0],fmt=\"%.3f\")\n",
    "plt.show();"
   ]
  },
  {
   "cell_type": "markdown",
   "metadata": {
    "hidden": true,
    "id": "g8_x-BiN1b7Q"
   },
   "source": [
    "___\n",
    "\n",
    "<p style=\"text-align: center;\"><img src=\"https://docs.google.com/uc?id=1lY0Uj5R04yMY3-ZppPWxqCr5pvBLYPnV\" class=\"img-fluid\" alt=\"CLRSWY\"></p>\n",
    "\n",
    "___"
   ]
  }
 ],
 "metadata": {
  "colab": {
   "collapsed_sections": [
    "K7UZHtvu1b62",
    "C5lJeTBu1b65",
    "TMjCTEG51b67",
    "CS5-GZy0sl4s",
    "zfi_NOw0s2fM",
    "p3gH5QvE1b7I",
    "9hxUcvZG1b7J",
    "9Rqk02x61b7L",
    "aoKU_HZR1b7M",
    "1hBIqmFL1b7O",
    "AVnS0UKO1b7P"
   ],
   "name": "soldier_race_project_students.ipynb",
   "provenance": []
  },
  "hide_input": false,
  "interpreter": {
   "hash": "e4e90950cb561445fc7289d5187c528b28750a487d008a70b474c773afaf79b7"
  },
  "kernelspec": {
   "display_name": "Python 3 (ipykernel)",
   "language": "python",
   "name": "python3"
  },
  "language_info": {
   "codemirror_mode": {
    "name": "ipython",
    "version": 3
   },
   "file_extension": ".py",
   "mimetype": "text/x-python",
   "name": "python",
   "nbconvert_exporter": "python",
   "pygments_lexer": "ipython3",
   "version": "3.7.12"
  },
  "toc": {
   "base_numbering": 1,
   "nav_menu": {},
   "number_sections": true,
   "sideBar": true,
   "skip_h1_title": false,
   "title_cell": "Table of Contents",
   "title_sidebar": "Contents",
   "toc_cell": false,
   "toc_position": {
    "height": "calc(100% - 180px)",
    "left": "10px",
    "top": "150px",
    "width": "338.797px"
   },
   "toc_section_display": true,
   "toc_window_display": false
  },
  "varInspector": {
   "cols": {
    "lenName": 16,
    "lenType": 16,
    "lenVar": 40
   },
   "kernels_config": {
    "python": {
     "delete_cmd_postfix": "",
     "delete_cmd_prefix": "del ",
     "library": "var_list.py",
     "varRefreshCmd": "print(var_dic_list())"
    },
    "r": {
     "delete_cmd_postfix": ") ",
     "delete_cmd_prefix": "rm(",
     "library": "var_list.r",
     "varRefreshCmd": "cat(var_dic_list()) "
    }
   },
   "oldHeight": 527,
   "position": {
    "height": "40px",
    "left": "1034px",
    "right": "20px",
    "top": "185px",
    "width": "661px"
   },
   "types_to_exclude": [
    "module",
    "function",
    "builtin_function_or_method",
    "instance",
    "_Feature"
   ],
   "varInspector_section_display": "none",
   "window_display": false
  }
 },
 "nbformat": 4,
 "nbformat_minor": 1
}
